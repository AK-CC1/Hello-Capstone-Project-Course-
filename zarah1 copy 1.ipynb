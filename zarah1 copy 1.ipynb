{
    "nbformat_minor": 1, 
    "cells": [
        {
            "source": "<h1>\"My Jupyter Notebook on IBM Data Science Experience\"</h1>", 
            "cell_type": "markdown", 
            "metadata": {
                "collapsed": true
            }
        }, 
        {
            "source": "<b>My name is Ulugbek Nurmatov\n\nDevops engineer</b>", 
            "cell_type": "markdown", 
            "metadata": {}
        }, 
        {
            "source": "<i>\"I am interested in data science because it is on demand job\"</i>", 
            "cell_type": "markdown", 
            "metadata": {}
        }, 
        {
            "source": "<h3> my codes adds two numbers together</h3>", 
            "cell_type": "markdown", 
            "metadata": {}
        }, 
        {
            "source": "255+44", 
            "cell_type": "code", 
            "metadata": {}, 
            "outputs": [
                {
                    "output_type": "stream", 
                    "name": "stdout", 
                    "text": "Waiting for a Spark session to start...\nSpark Initialization Done! ApplicationId = app-20180910011638-0000\n"
                }, 
                {
                    "output_type": "execute_result", 
                    "data": {
                        "text/plain": "299"
                    }, 
                    "execution_count": 1, 
                    "metadata": {}
                }
            ], 
            "execution_count": 1
        }, 
        {
            "source": "<img src=\"http://www.stickpng.com/assets/images/5847f91ccef1014c0b5e48b8.png\" alt=\"Trulli\" width=\"500\" height=\"333\">", 
            "cell_type": "markdown", 
            "metadata": {}
        }, 
        {
            "source": "<strike> available!</strike>", 
            "cell_type": "markdown", 
            "metadata": {}
        }, 
        {
            "source": "<blockquote cite=\"http://www.worldwildlife.org/who/index.html\">\nFor 50 years, WWF has been protecting the future of nature. The world's leading conservation organization, WWF works in 100 countries and is supported by 1.2 million members in the United States and close to 5 million globally.\n</blockquote>", 
            "cell_type": "markdown", 
            "metadata": {}
        }, 
        {
            "source": "|table|cat|", 
            "cell_type": "markdown", 
            "metadata": {}
        }, 
        {
            "source": "<table>\n  <tr>\n    <th>Company</th>\n    <th>Contact</th>\n    <th>Country</th>\n  </tr>\n  <tr>\n    <td>Alfreds Futterkiste</td>\n    <td>Maria Anders</td>\n    <td>Germany</td>\n  </tr>", 
            "cell_type": "markdown", 
            "metadata": {}
        }, 
        {
            "source": "<ol>\n  <li>Coffee</li>\n  <li>Tea</li>\n  <li>Milk</li>\n</ol>\n", 
            "cell_type": "markdown", 
            "metadata": {}
        }, 
        {
            "source": "import pandas as pd", 
            "cell_type": "code", 
            "metadata": {}, 
            "outputs": [], 
            "execution_count": 6
        }, 
        {
            "source": "import numpy as np", 
            "cell_type": "code", 
            "metadata": {}, 
            "outputs": [
                {
                    "output_type": "stream", 
                    "name": "stdout", 
                    "text": "Waiting for a Spark session to start...\nSpark Initialization Done! ApplicationId = app-20180910015318-0000\n"
                }
            ], 
            "execution_count": 1
        }, 
        {
            "source": "Print the following the statement: Hello Capstone Project Course!", 
            "cell_type": "markdown", 
            "metadata": {}
        }, 
        {
            "source": "", 
            "cell_type": "code", 
            "metadata": {}, 
            "outputs": [], 
            "execution_count": null
        }
    ], 
    "metadata": {
        "kernelspec": {
            "display_name": "Python 3.5 with Spark", 
            "name": "python3", 
            "language": "python3"
        }, 
        "language_info": {
            "mimetype": "text/x-python", 
            "nbconvert_exporter": "python", 
            "version": "3.5.4", 
            "name": "python", 
            "file_extension": ".py", 
            "pygments_lexer": "ipython3", 
            "codemirror_mode": {
                "version": 3, 
                "name": "ipython"
            }
        }
    }, 
    "nbformat": 4
}